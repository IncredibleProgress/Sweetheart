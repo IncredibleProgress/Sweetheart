{
 "cells": [
  {
   "cell_type": "code",
   "execution_count": 1,
   "id": "22305fa3",
   "metadata": {},
   "outputs": [
    {
     "data": {
      "text/plain": [
       "<gel.blocking_client.Client at 0x7a34927750d0>"
      ]
     },
     "execution_count": 1,
     "metadata": {},
     "output_type": "execute_result"
    }
   ],
   "source": [
    "import gel\n",
    "from sweetheart.subprocess import os\n",
    "\n",
    "os.chdir(f\"{os.HOME}/My_code/database\")\n",
    "client = gel.create_client()\n",
    "client.ensure_connected()"
   ]
  },
  {
   "cell_type": "code",
   "execution_count": 2,
   "id": "d7c2f86a",
   "metadata": {},
   "outputs": [
    {
     "data": {
      "text/plain": [
       "['Bienvenue!']"
      ]
     },
     "execution_count": 2,
     "metadata": {},
     "output_type": "execute_result"
    }
   ],
   "source": [
    "client.query(\"select 'Bienvenue!';\")\n"
   ]
  }
 ],
 "metadata": {
  "kernelspec": {
   "display_name": "sweetheart",
   "language": "python",
   "name": "sweetheart"
  },
  "language_info": {
   "codemirror_mode": {
    "name": "ipython",
    "version": 3
   },
   "file_extension": ".py",
   "mimetype": "text/x-python",
   "name": "python",
   "nbconvert_exporter": "python",
   "pygments_lexer": "ipython3",
   "version": "3.12.3"
  }
 },
 "nbformat": 4,
 "nbformat_minor": 5
}
