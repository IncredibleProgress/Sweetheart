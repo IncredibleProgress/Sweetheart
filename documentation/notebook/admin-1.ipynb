{
 "cells": [
  {
   "cell_type": "markdown",
   "id": "194690b7",
   "metadata": {},
   "source": [
    "### Getting 1st App Started"
   ]
  },
  {
   "cell_type": "code",
   "execution_count": null,
   "id": "d9754635",
   "metadata": {},
   "outputs": [],
   "source": [
    "from sweetheart.services import *\n",
    "\n",
    "config = set_config({\n",
    "    # set here your own app config when required\n",
    "    # but please refer to the documentation first\n",
    "})\n",
    "\n",
    "# get some useful info\n",
    "echo(\"python app directory:\",config['python_app']['path'])\n",
    "echo(\"unit config file:\",config.unitconf)\n",
    "\n",
    "# setup your 1st webapp service\n",
    "WebappServer(config).set_service(unit=True)"
   ]
  },
  {
   "cell_type": "markdown",
   "id": "cf838720",
   "metadata": {},
   "source": [
    "### Test Gel/EdgeDB Connection"
   ]
  },
  {
   "cell_type": "code",
   "execution_count": null,
   "id": "22305fa3",
   "metadata": {},
   "outputs": [],
   "source": [
    "import gel\n",
    "from sweetheart import *\n",
    "\n",
    "os.chdir(f\"{os.HOME}/My_code/database\")\n",
    "client = gel.create_client()\n",
    "client.ensure_connected()\n",
    "client.query(\"select 'Bienvenue!';\")"
   ]
  }
 ],
 "metadata": {
  "kernelspec": {
   "display_name": "sweetheart",
   "language": "python",
   "name": "sweetheart"
  },
  "language_info": {
   "codemirror_mode": {
    "name": "ipython",
    "version": 3
   },
   "file_extension": ".py",
   "mimetype": "text/x-python",
   "name": "python",
   "nbconvert_exporter": "python",
   "pygments_lexer": "ipython3",
   "version": "3.12.3"
  }
 },
 "nbformat": 4,
 "nbformat_minor": 5
}
