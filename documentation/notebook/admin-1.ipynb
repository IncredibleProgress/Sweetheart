{
 "cells": [
  {
   "cell_type": "code",
   "execution_count": null,
   "id": "d9754635",
   "metadata": {},
   "outputs": [],
   "source": [
    "from sweetheart.services import *\n",
    "\n",
    "config = set_config({})\n",
    "echo(\"python app directory:\",config['python_app']['path'])\n",
    "echo(\"unit config file:\",config.unitconf)\n",
    "WebappServer(config).set_service(unit=True)"
   ]
  },
  {
   "cell_type": "code",
   "execution_count": 1,
   "id": "22305fa3",
   "metadata": {},
   "outputs": [
    {
     "data": {
      "text/plain": [
       "['Bienvenue!']"
      ]
     },
     "execution_count": 1,
     "metadata": {},
     "output_type": "execute_result"
    }
   ],
   "source": [
    "import gel\n",
    "from sweetheart.subprocess import os\n",
    "\n",
    "os.chdir(f\"{os.HOME}/My_code/database\")\n",
    "client = gel.create_client()\n",
    "client.ensure_connected()\n",
    "client.query(\"select 'Bienvenue!';\")"
   ]
  }
 ],
 "metadata": {
  "kernelspec": {
   "display_name": "sweetheart",
   "language": "python",
   "name": "sweetheart"
  },
  "language_info": {
   "codemirror_mode": {
    "name": "ipython",
    "version": 3
   },
   "file_extension": ".py",
   "mimetype": "text/x-python",
   "name": "python",
   "nbconvert_exporter": "python",
   "pygments_lexer": "ipython3",
   "version": "3.12.3"
  }
 },
 "nbformat": 4,
 "nbformat_minor": 5
}
